{
 "cells": [
  {
   "cell_type": "markdown",
   "metadata": {},
   "source": [
    "# Review Report: Task 1 - Understanding Credit Risk\n",
    "\n",
    "## 1. Understanding Credit Risk\n",
    "Credit risk refers to the likelihood that a borrower will fail to meet their financial obligations, leading to a potential loss for the lender. For Bati Bank, this project focuses on building a **Credit Scoring Model** that can assess customer creditworthiness and predict the probability of default. This is crucial for the bank to minimize losses, streamline loan approvals, and maintain profitability while adhering to regulatory guidelines.\n",
    "\n",
    "As part of my research, I reviewed several references to deepen my understanding of credit risk and its application in predictive modeling. Here are the key takeaways:\n",
    "\n",
    "### Basel II Guidelines and Credit Risk Metrics\n",
    "Basel II guidelines provide a framework for evaluating credit risk using metrics like:\n",
    "- **Probability of Default (PD)**\n",
    "- **Loss Given Default (LGD)**\n",
    "- **Exposure at Default (EAD)**\n",
    "\n",
    "These metrics enable financial institutions to quantify and manage risk while maintaining compliance.\n",
    "\n",
    "[Link: Basel II Guidelines](#)\n",
    "\n",
    "### Modern Approaches to Credit Scoring\n",
    "Alternative credit scoring techniques emphasize the use of **non-traditional data**, such as transactional behavior and social activity, to complement credit history. These methods can improve financial inclusivity for customers without conventional credit profiles.\n",
    "\n",
    "[Link: HKMA Alternative Credit Scoring](#)\n",
    "\n",
    "### Machine Learning in Credit Scoring\n",
    "Machine learning techniques, such as **decision trees** and **logistic regression**, can uncover complex patterns in transactional data, enhancing the accuracy of credit scoring models. Additionally, **feature engineering** and **hyperparameter tuning** are critical steps in optimizing these models.\n",
    "\n",
    "[Link: Credit Risk Modeling Guide](#)\n",
    "\n",
    "### Identifying Early Warning Signs\n",
    "Effective risk assessment involves identifying early signs of default. Segmenting borrowers into risk groups based on predictive scores helps institutions make informed lending decisions and manage portfolios more effectively.\n",
    "\n",
    "[Link: Risk Officer Insights](#)\n",
    "\n",
    "Through this review, I have developed a clearer understanding of the theoretical and practical aspects of credit risk modeling, which directly informs the project's objectives.\n",
    "\n",
    "---\n",
    "\n",
    "## 2. Task 1 Progress\n",
    "\n",
    "### Objective:\n",
    "The primary objective is to build a **Credit Scoring Model** that evaluates customer creditworthiness, predicts the probability of default, and categorizes borrowers as high-risk or low-risk. The project aims to achieve this by:\n",
    "1. Defining a proxy variable to label transactions as high or low risk.\n",
    "2. Identifying predictive features from the data.\n",
    "3. Creating models that estimate risk probabilities and assign credit scores.\n",
    "\n",
    "\n"
   ]
  }
 ],
 "metadata": {
  "language_info": {
   "name": "python"
  }
 },
 "nbformat": 4,
 "nbformat_minor": 2
}
